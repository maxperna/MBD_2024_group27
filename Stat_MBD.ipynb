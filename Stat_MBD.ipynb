{
 "cells": [
  {
   "cell_type": "code",
   "execution_count": 1,
   "metadata": {},
   "outputs": [],
   "source": [
    "import pyarrow.parquet as pq\n",
    "import pyarrow as pa\n",
    "import matplotlib.pyplot as plt \n",
    "import seaborn as sns\n",
    "from pathlib import Path\n",
    "from scipy.stats import ttest_ind_from_stats"
   ]
  },
  {
   "cell_type": "code",
   "execution_count": 15,
   "metadata": {},
   "outputs": [],
   "source": [
    "game_stats_path = r\"C:\\Users\\Maxip\\Desktop\\Personale\\Università\\MBD\\games_stats_elab\"\n",
    "player_stats_path = r\"C:\\Users\\Maxip\\Desktop\\Personale\\Università\\MBD\\player_stats_elab\""
   ]
  },
  {
   "cell_type": "markdown",
   "metadata": {},
   "source": [
    "## Read games stats"
   ]
  },
  {
   "cell_type": "code",
   "execution_count": 40,
   "metadata": {},
   "outputs": [
    {
     "data": {
      "text/html": [
       "<div>\n",
       "<style scoped>\n",
       "    .dataframe tbody tr th:only-of-type {\n",
       "        vertical-align: middle;\n",
       "    }\n",
       "\n",
       "    .dataframe tbody tr th {\n",
       "        vertical-align: top;\n",
       "    }\n",
       "\n",
       "    .dataframe thead th {\n",
       "        text-align: right;\n",
       "    }\n",
       "</style>\n",
       "<table border=\"1\" class=\"dataframe\">\n",
       "  <thead>\n",
       "    <tr style=\"text-align: right;\">\n",
       "      <th></th>\n",
       "      <th>TimeControl</th>\n",
       "      <th>Abandoned</th>\n",
       "      <th>Normal</th>\n",
       "      <th>Rules infraction</th>\n",
       "      <th>Time forfeit</th>\n",
       "    </tr>\n",
       "  </thead>\n",
       "  <tbody>\n",
       "    <tr>\n",
       "      <th>0</th>\n",
       "      <td>360</td>\n",
       "      <td>1680</td>\n",
       "      <td>148746</td>\n",
       "      <td>32</td>\n",
       "      <td>25140</td>\n",
       "    </tr>\n",
       "    <tr>\n",
       "      <th>1</th>\n",
       "      <td>420</td>\n",
       "      <td>5518</td>\n",
       "      <td>440372</td>\n",
       "      <td>90</td>\n",
       "      <td>64306</td>\n",
       "    </tr>\n",
       "    <tr>\n",
       "      <th>2</th>\n",
       "      <td>480</td>\n",
       "      <td>1040</td>\n",
       "      <td>253726</td>\n",
       "      <td>62</td>\n",
       "      <td>38616</td>\n",
       "    </tr>\n",
       "    <tr>\n",
       "      <th>3</th>\n",
       "      <td>540</td>\n",
       "      <td>0</td>\n",
       "      <td>35902</td>\n",
       "      <td>20</td>\n",
       "      <td>5430</td>\n",
       "    </tr>\n",
       "    <tr>\n",
       "      <th>4</th>\n",
       "      <td>600</td>\n",
       "      <td>38362</td>\n",
       "      <td>23664000</td>\n",
       "      <td>5318</td>\n",
       "      <td>3056348</td>\n",
       "    </tr>\n",
       "  </tbody>\n",
       "</table>\n",
       "</div>"
      ],
      "text/plain": [
       "   TimeControl  Abandoned    Normal  Rules infraction  Time forfeit\n",
       "0          360       1680    148746                32         25140\n",
       "1          420       5518    440372                90         64306\n",
       "2          480       1040    253726                62         38616\n",
       "3          540          0     35902                20          5430\n",
       "4          600      38362  23664000              5318       3056348"
      ]
     },
     "execution_count": 40,
     "metadata": {},
     "output_type": "execute_result"
    }
   ],
   "source": [
    "files = list(Path(game_stats_path).rglob('*.parquet'))\n",
    "tables = [pq.read_table(file) for file in files]\n",
    "merged_table = pa.concat_tables(tables)\n",
    "\n",
    "games_stats_df = merged_table.to_pandas()\n",
    "\n",
    "games_stats_df.fillna(0,inplace=True)\n",
    "games_stats_df = games_stats_df.astype(int,errors='ignore')\n",
    "\n",
    "games_stats_df.head()"
   ]
  },
  {
   "cell_type": "markdown",
   "metadata": {},
   "source": [
    "## Read player stats"
   ]
  },
  {
   "cell_type": "code",
   "execution_count": 30,
   "metadata": {},
   "outputs": [
    {
     "data": {
      "text/html": [
       "<div>\n",
       "<style scoped>\n",
       "    .dataframe tbody tr th:only-of-type {\n",
       "        vertical-align: middle;\n",
       "    }\n",
       "\n",
       "    .dataframe tbody tr th {\n",
       "        vertical-align: top;\n",
       "    }\n",
       "\n",
       "    .dataframe thead th {\n",
       "        text-align: right;\n",
       "    }\n",
       "</style>\n",
       "<table border=\"1\" class=\"dataframe\">\n",
       "  <thead>\n",
       "    <tr style=\"text-align: right;\">\n",
       "      <th></th>\n",
       "      <th>avg_elo</th>\n",
       "      <th>count</th>\n",
       "    </tr>\n",
       "  </thead>\n",
       "  <tbody>\n",
       "    <tr>\n",
       "      <th>2257</th>\n",
       "      <td>400</td>\n",
       "      <td>2</td>\n",
       "    </tr>\n",
       "    <tr>\n",
       "      <th>1833</th>\n",
       "      <td>405</td>\n",
       "      <td>1</td>\n",
       "    </tr>\n",
       "    <tr>\n",
       "      <th>2087</th>\n",
       "      <td>407</td>\n",
       "      <td>3</td>\n",
       "    </tr>\n",
       "    <tr>\n",
       "      <th>2128</th>\n",
       "      <td>408</td>\n",
       "      <td>2</td>\n",
       "    </tr>\n",
       "    <tr>\n",
       "      <th>2235</th>\n",
       "      <td>409</td>\n",
       "      <td>1</td>\n",
       "    </tr>\n",
       "  </tbody>\n",
       "</table>\n",
       "</div>"
      ],
      "text/plain": [
       "      avg_elo  count\n",
       "2257      400      2\n",
       "1833      405      1\n",
       "2087      407      3\n",
       "2128      408      2\n",
       "2235      409      1"
      ]
     },
     "execution_count": 30,
     "metadata": {},
     "output_type": "execute_result"
    }
   ],
   "source": [
    "files = list(Path(player_stats_path).rglob('*.parquet'))\n",
    "tables = [pq.read_table(file) for file in files]\n",
    "merged_table = pa.concat_tables(tables)\n",
    "\n",
    "player_stats_df = merged_table.to_pandas()\n",
    "\n",
    "player_stats_df.fillna(0,inplace=True)\n",
    "player_stats_df = player_stats_df.astype(int,errors='ignore')\n",
    "player_stats_df = player_stats_df.sort_values(by='avg_elo',ascending=True)\n",
    "\n",
    "player_stats_df.head()"
   ]
  },
  {
   "cell_type": "markdown",
   "metadata": {},
   "source": [
    "## Plot"
   ]
  },
  {
   "cell_type": "code",
   "execution_count": 43,
   "metadata": {},
   "outputs": [
    {
     "data": {
      "image/png": "[encoded data removed]",
      "text/plain": [
       "<Figure size 640x480 with 1 Axes>"
      ]
     },
     "metadata": {},
     "output_type": "display_data"
    }
   ],
   "source": [
    "values = player_stats_df['avg_elo']\n",
    "occurrences = player_stats_df['count']\n",
    "\n",
    "# Create a continuous line plot\n",
    "plt.plot(values, occurrences, marker='o', linestyle='-', color='blue')\n",
    "\n",
    "# Add labels and title\n",
    "plt.title(\"Average ELO Distribution\")\n",
    "plt.xlabel(\"Avg ELO\")\n",
    "plt.ylabel(\"Number of Players\")\n",
    "\n",
    "# Show the plot\n",
    "plt.show()"
   ]
  },
  {
   "cell_type": "code",
   "execution_count": 44,
   "metadata": {},
   "outputs": [
    {
     "data": {
      "image/png": "[encoded data removed]",
      "text/plain": [
       "<Figure size 640x480 with 1 Axes>"
      ]
     },
     "metadata": {},
     "output_type": "display_data"
    }
   ],
   "source": [
    "values = games_stats_df['TimeControl'][:10]\n",
    "occurrences = games_stats_df['Rules infraction'][:10]\n",
    "\n",
    "# Create a continuous line plot\n",
    "plt.plot(values, occurrences, marker='o', linestyle='-', color='blue')\n",
    "\n",
    "# Add labels and title\n",
    "plt.title(\"Games interrupted by rules infraction \")\n",
    "plt.xlabel(\"TimeControl (in sec)\")\n",
    "plt.ylabel(\"Occurrences\")\n",
    "\n",
    "# Show the plot\n",
    "plt.show()"
   ]
  },
  {
   "cell_type": "markdown",
   "metadata": {},
   "source": [
    "### Statistical Significance Test\n",
    "We are going to perform a statistical test for the means based on descriptive statistics. All tests are set on a confidence level $\\alpha = 0.05$ and have as hypothesis:\n",
    "<br>(*Null hypothesis*) $H_0: \\mu_1 = \\mu_2$\n",
    "<br>(*Altenrative hyothesis*) $H_1: \\mu_1 < \\mu_2$\n",
    "<br> Where $\\mu_1$ is the sample mean of non cheaters and $\\mu_2$ of the cheaters\n",
    "<br>![Getting Started](./Data_comparison.png)"
   ]
  },
  {
   "cell_type": "markdown",
   "metadata": {},
   "source": [
    "### win_rate"
   ]
  },
  {
   "cell_type": "code",
   "execution_count": 2,
   "metadata": {},
   "outputs": [
    {
     "name": "stdout",
     "output_type": "stream",
     "text": [
      "t-statistic: -29.266999080318335\n",
      "p-value: 4.169267630997422e-188\n"
     ]
    }
   ],
   "source": [
    "#Population means\n",
    "non_cheaters_mean = 0.4979715563324271\n",
    "cheaters_mean = 0.6386031331592686\n",
    "\n",
    "#population stddev\n",
    "non_cheaters_stddev = 0.13269082065314636\n",
    "cheaters_stddev = 0.2119384710085416\n",
    "\n",
    "t_statistic, p_value = ttest_ind_from_stats(non_cheaters_mean, non_cheaters_stddev,432504 , cheaters_mean, cheaters_stddev, 766)\n",
    "\n",
    "print(\"t-statistic:\", t_statistic)\n",
    "print(\"p-value:\", p_value)"
   ]
  },
  {
   "cell_type": "markdown",
   "metadata": {},
   "source": [
    "The p value is $<0.05$ so we cannot accept the null hypothesis and hence the differnce is statistically significant"
   ]
  },
  {
   "cell_type": "markdown",
   "metadata": {},
   "source": [
    "### avg_elo"
   ]
  },
  {
   "cell_type": "code",
   "execution_count": 3,
   "metadata": {},
   "outputs": [
    {
     "name": "stdout",
     "output_type": "stream",
     "text": [
      "t-statistic: -6.994568396196882\n",
      "p-value: 2.6645937279437478e-12\n"
     ]
    }
   ],
   "source": [
    "#Population means\n",
    "non_cheaters_mean = 1472.7042152904949\n",
    "cheaters_mean = 1563.1283159268926\n",
    "\n",
    "#population stddev\n",
    "non_cheaters_stddev = 357.42272502600787\n",
    "cheaters_stddev = 389.2260420824891\n",
    "\n",
    "t_statistic, p_value = ttest_ind_from_stats(non_cheaters_mean, non_cheaters_stddev,432504 , cheaters_mean, cheaters_stddev, 766)\n",
    "\n",
    "print(\"t-statistic:\", t_statistic)\n",
    "print(\"p-value:\", p_value)"
   ]
  },
  {
   "cell_type": "markdown",
   "metadata": {},
   "source": [
    "p-val $<0.5$ so with a confidence level $\\alpha$ we have enough evidence to refuse null hypothesis, hence elo difference is significant"
   ]
  },
  {
   "cell_type": "markdown",
   "metadata": {},
   "source": [
    "### EloIncrement"
   ]
  },
  {
   "cell_type": "code",
   "execution_count": 4,
   "metadata": {},
   "outputs": [
    {
     "name": "stdout",
     "output_type": "stream",
     "text": [
      "t-statistic: -11.48268474996178\n",
      "p-value: 1.628455419905497e-30\n"
     ]
    }
   ],
   "source": [
    "#Population means\n",
    "non_cheaters_mean = -14.277821708007325\n",
    "cheaters_mean = 72.68929503916449\n",
    "\n",
    "#population stddev\n",
    "non_cheaters_stddev = 208.95550572654565\n",
    "cheaters_stddev = 395.50835006384057\n",
    "\n",
    "t_statistic, p_value = ttest_ind_from_stats(non_cheaters_mean, non_cheaters_stddev,432504 , cheaters_mean, cheaters_stddev, 766)\n",
    "\n",
    "print(\"t-statistic:\", t_statistic)\n",
    "print(\"p-value:\", p_value)"
   ]
  },
  {
   "cell_type": "markdown",
   "metadata": {},
   "source": [
    "We cannot accept the null hypothesis, differences are statistically signifcant"
   ]
  }
 ],
 "metadata": {
  "kernelspec": {
   "display_name": "Python 3",
   "language": "python",
   "name": "python3"
  },
  "language_info": {
   "codemirror_mode": {
    "name": "ipython",
    "version": 3
   },
   "file_extension": ".py",
   "mimetype": "text/x-python",
   "name": "python",
   "nbconvert_exporter": "python",
   "pygments_lexer": "ipython3",
   "version": "3.10.8"
  }
 },
 "nbformat": 4,
 "nbformat_minor": 2
}
